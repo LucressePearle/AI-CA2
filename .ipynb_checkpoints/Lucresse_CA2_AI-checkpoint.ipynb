{
 "cells": [
  {
   "cell_type": "markdown",
   "id": "6c0c2f37",
   "metadata": {},
   "source": [
    "# CCT College Dublin \n",
    "\n",
    "## Module Title: \n",
    "Artificial Intelligence\n",
    "## Assessment Title:\n",
    "AI_Lv8_CA2_V8\n",
    "## Lecturer Name:\n",
    "David McQuaid\n",
    "## Student Full Name/ID:\n",
    "Lucresse Pearle Tchatchoua Mbakop – 2021404\n",
    "## Assessment Due Date:\n",
    "18th november 2023 23:59\n",
    "## Date of Submission:\n",
    "\n",
    "\n",
    "### Declaration \t\t\t\n",
    "By submitting this assessment, I confirm that I have read the CCT policy on Academic Misconduct and understand the implications of submitting work that is not my own or does not appropriately reference material taken from a third party or other source. I declare it to be my own work and that all material from third parties has been appropriately referenced. I further confirm that this work has not previously been submitted for assessment by myself or someone else in CCT College Dublin or any other higher education institution.\n",
    "\n"
   ]
  },
  {
   "cell_type": "markdown",
   "id": "adebeb1e",
   "metadata": {},
   "source": [
    "## Question 1\n",
    "  A puzzle has multiple ways of reaching the end solution. Fig. 1 shows a graph that represents all possible routes to the solution. The starting point of the game is represented by A, the solution is represented by S. The other points in the graph are possible intermediary stages. "
   ]
  },
  {
   "cell_type": "markdown",
   "id": "95ba70fd",
   "metadata": {},
   "source": [
    "### (a)\n",
    "### (i)The differences between a graph and a tree \n",
    "  A graph being a collection of vertices and edges, the edge is the connection between 02 vertices. A tree could be identify as a specific type of graph that is connected and contents no cycles. \n",
    " This are some main differents between a graph and a Tree:  \n",
    "###### Graph:\n",
    "- Can content loops, or can be connected or not.\n",
    "\n",
    "- The edges can be directed or undirected.\n",
    "   \n",
    "- Do not have a specific root not.\n",
    "   \n",
    "- A node do not have a limited number of connections to other nodes.\n",
    "   \n",
    "- A graph can get very complex the more nodes and edges are added into it.\n",
    "   \n",
    "- Traversal techniques use are Breath and depth first search.\n",
    "\n",
    "###### Tree:\n",
    "   - It is acyclic.\n",
    "   \n",
    "   - Has a unique path between two vertices.\n",
    "   \n",
    "   - Has a root, which is the starting point of tree.\n",
    "   \n",
    "   - Usually look like hierarchical relationships.\n",
    "   \n",
    "   - A node except from the root node has a maximum of one parent.\n",
    "   \n",
    "   - Traversal techniques used are pre-order, in-order , post-order.\n",
    "  "
   ]
  },
  {
   "cell_type": "markdown",
   "id": "5fe25cfe",
   "metadata": {},
   "source": [
    "### (ii) The graph as an abstraction of the problem.\n",
    "   The graph on Fig 1 is an abstraction of the problem where we show  the multiple ways a  puzzle can reach an end solution. \n",
    "After some observation of our graph i will say:\n",
    " - The nodes in graph could represent a state, piece or a specific position in the puzzle.\n",
    " \n",
    " - The edges represent the possible ways the pieces could move. the weight of this edges could be the distant or how far the pieces could be moved.\n",
    " \n",
    " - And generaly, the paths that are created at the end of the creation of the graph could be consider as a possible solutions of our problem(each path being different way of getting to the end point).\n",
    " \n",
    " Therefore the graph is an abstraction of the problem by the way it captures the problem and provides the possible solutions, it also provides the virtual structure of the problem improving our understanding of this situation."
   ]
  },
  {
   "cell_type": "markdown",
   "id": "2e5f0ef0",
   "metadata": {},
   "source": [
    "### (iii) The advantages of using a Graph Visualisation\n",
    "   A graph as a visualisation can be consider as a virtual reprensation of a real life problem. This visualisation is often use to reprensent problems because graphs are easy ways to represent connections and can mathematicaly analyze these connexions.\n",
    "   In our case of study a graph is being use to visualize the different ways  we can get to an end solution(S) in a puzzle, These are some advantages of using graph as visualizations of our problem:\n",
    "   \n",
    "  - In our case, using a graph will help visualise the problem better, by showing all the different connexion or possible path to complete the puzzle.\n",
    "  \n",
    "  - The implementation of a graph and the use of the traversal techniques of a graph could helps us get to our end point.\n",
    "  \n",
    "  - The graph represents all the possible path to get to the end point, therefore giving us the ability to choose the best path.\n",
    "  \n",
    "  - Graph gives us more insights of the problem, improving therefore our understanding of the problem.\n",
    "  \n",
    "  - Graphs helps in making analysis and for data processing through the use of their algorithms and theories.\n",
    "  \n",
    "  - Graphs are also use to reduce computation flow."
   ]
  },
  {
   "cell_type": "markdown",
   "id": "b1ebf0c7",
   "metadata": {},
   "source": [
    "### (b) Implementation of Dijkstra’s algorithm - shortest path to the solution"
   ]
  },
  {
   "cell_type": "code",
   "execution_count": 2,
   "id": "ea11b457",
   "metadata": {},
   "outputs": [],
   "source": [
    "#fig.1 graph representation\n",
    "graph_fig1 = {\n",
    "    'A': {'B': 1, 'H': 2, 'C': 5},\n",
    "    'B': {'A': 1, 'C': 2, 'D': 4},\n",
    "    'C': {'A': 5, 'B': 2, 'G': 1},\n",
    "    'D': {'B': 4, 'L': 7, 'F': 7, 'E': 4},\n",
    "    'E': {'D': 4, 'F': 3, 'W': 6},\n",
    "    'F': {'D': 7, 'E': 3,'G':2},\n",
    "    'G': {'C': 1, 'F': 2, 'L': 3},\n",
    "    'H': {'A': 2, 'K': 5, 'J': 9},\n",
    "    'K': {'H': 5, 'J': 3, 'L': 5},\n",
    "    'J': {'H': 9, 'K': 3, 'N': 6},\n",
    "    'L': {'K': 5, 'G': 3, 'D': 7, 'W': 8, 'M': 4, 'N':3, 'V': 10},\n",
    "    'N': {'L': 3, 'S': 7,'P':4, 'J':6},\n",
    "    'M': {'L': 4, 'Q': 10, 'P': 2},\n",
    "    'P': {'N': 4, 'M': 2, 'R': 5},\n",
    "    'Q': {'M': 10, 'S': 8, 'W': 4},\n",
    "    'W': {'E': 6, 'L': 8, 'Q': 4, 'V': 5},\n",
    "    'V': {'W': 5, 'L': 10, 'S': 6, 'U': 3},\n",
    "    'S': {'U': 2, 'V': 6,'Q':8, 'R':4, 'T':4, 'N': 7},\n",
    "    'U': {'V': 3, 'S': 2, 'T': 1},\n",
    "    'T': {'S': 4, 'U': 1, 'R': 3},\n",
    "    'R': {'T': 3, 'S': 4, 'P': 5},\n",
    "   \n",
    "}"
   ]
  },
  {
   "cell_type": "code",
   "execution_count": null,
   "id": "d959ac33",
   "metadata": {},
   "outputs": [],
   "source": []
  },
  {
   "cell_type": "markdown",
   "id": "0c25a9cc",
   "metadata": {},
   "source": [
    "## Reference"
   ]
  },
  {
   "cell_type": "markdown",
   "id": "5bc4e38e",
   "metadata": {},
   "source": [
    "#### Websites\n",
    "   -geeksforgeeks. (2022). Difference between graph and tree. [Online]. geeksforgeeks. Last Updated: 28 Feb, 2023. Available at: https://www.geeksforgeeks.org/difference-between-graph-and-tree/ [Accessed 6 November 2023].\n",
    "   \n",
    "   -EliseDevaux. (2019). 5 reasons why graph visualization matters. [Online]. Linkurious blog. Last Updated: November 1, 2019. Available at: https://www.datasciencecentral.com/5-reasons-why-graph-visualization-matters/ [Accessed 7 November 2023].\n",
    "   \n",
    "   -geeksforgeeks. (2019). Advantages and Disadvantages of Graph. [Online]. geeksforgeeks. Last Updated: 17 april 2023. Available at: https://www.geeksforgeeks.org/applications-advantages-and-disadvantages-of-graph/ [Accessed 7 November 2023].\n",
    "\n"
   ]
  },
  {
   "cell_type": "code",
   "execution_count": null,
   "id": "aa21225d",
   "metadata": {},
   "outputs": [],
   "source": []
  }
 ],
 "metadata": {
  "kernelspec": {
   "display_name": "Python 3 (ipykernel)",
   "language": "python",
   "name": "python3"
  },
  "language_info": {
   "codemirror_mode": {
    "name": "ipython",
    "version": 3
   },
   "file_extension": ".py",
   "mimetype": "text/x-python",
   "name": "python",
   "nbconvert_exporter": "python",
   "pygments_lexer": "ipython3",
   "version": "3.9.7"
  }
 },
 "nbformat": 4,
 "nbformat_minor": 5
}
