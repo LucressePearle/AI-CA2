{
 "cells": [
  {
   "cell_type": "markdown",
   "id": "6c0c2f37",
   "metadata": {},
   "source": [
    "# CCT College Dublin \n",
    "\n",
    "## Module Title: \n",
    "Artificial Intelligence\n",
    "## Assessment Title:\n",
    "AI_Lv8_CA2_V8\n",
    "## Lecturer Name:\n",
    "David McQuaid\n",
    "## Student Full Name/ID:\n",
    "Lucresse Pearle Tchatchoua Mbakop – 2021404\n",
    "## Assessment Due Date:\n",
    "18th november 2023 23:59\n",
    "## Date of Submission:\n",
    "\n",
    "\n",
    "### Declaration \t\t\t\n",
    "By submitting this assessment, I confirm that I have read the CCT policy on Academic Misconduct and understand the implications of submitting work that is not my own or does not appropriately reference material taken from a third party or other source. I declare it to be my own work and that all material from third parties has been appropriately referenced. I further confirm that this work has not previously been submitted for assessment by myself or someone else in CCT College Dublin or any other higher education institution.\n",
    "\n"
   ]
  },
  {
   "cell_type": "markdown",
   "id": "adebeb1e",
   "metadata": {},
   "source": [
    "## Question 1\n",
    "  A puzzle has multiple ways of reaching the end solution. Fig. 1 shows a graph that represents all possible routes to the solution. The starting point of the game is represented by A, the solution is represented by S. The other points in the graph are possible intermediary stages. "
   ]
  },
  {
   "cell_type": "markdown",
   "id": "95ba70fd",
   "metadata": {},
   "source": [
    "### (i)The differences between a graph and a tree \n",
    "  A graph being a collection of vertices and edges, the edge is the connection between 02 vertices. A tree could be identify as a specific type of graph that is connected and contents no cycles. \n",
    " This are some main differents between a graph and a Tree:  \n",
    "###### Graph:\n",
    "- Can content loops, or can be connected or not.\n",
    "\n",
    "- The edges can be directed or undirected.\n",
    "   \n",
    "- Do not have a specific root not.\n",
    "   \n",
    "- A node do not have a limited number of connections to other nodes.\n",
    "   \n",
    "- A graph can get very complex the more nodes and edges are added into it.\n",
    "   \n",
    "- Traversal techniques use are Breath and depth first search.\n",
    "\n",
    "###### Tree:\n",
    "   - It is acyclic.\n",
    "   \n",
    "   - Has a unique path between two vertices.\n",
    "   \n",
    "   - Has a root, which is the starting point of tree.\n",
    "   \n",
    "   - Usually look like hierarchical relationships.\n",
    "   \n",
    "   - A node except from the root node has a maximum of one parent.\n",
    "   \n",
    "   - Traversal techniques used are pre-order, in-order , post-order.\n",
    "  "
   ]
  },
  {
   "cell_type": "markdown",
   "id": "c907b4e7",
   "metadata": {},
   "source": [
    "### (ii) How the graph is an abstraction of the problem.\n"
   ]
  },
  {
   "cell_type": "markdown",
   "id": "16cd9d44",
   "metadata": {},
   "source": [
    "### (iii) The advantages of using a Graph Visualisation\n",
    "   A graph as a visualisation can be consider as a virtual reprensation of a real life problem. This visualisation is often use to reprensent problems because graphs are easy ways to represent connections and can mathematicaly analyze these connexions.\n",
    "   In our case of study a graph is being use to visualize the different ways  we can get to an end solution(S) in a puzzle, These are some advantages of using graph as visualizations of our problem:\n",
    "   \n",
    "  - In our case, using a graph will help visualise the problem better, by showing all the different connexion or possible path to complete the puzzle.\n",
    "  \n",
    "  - The implementation of a graph and the use of the traversal techniques of a graph could helps us get to our end point.\n",
    "  \n",
    "  - The graph represents all the possible path to get to the end point, therefore giving us the ability to choose the best path.\n",
    "  \n",
    "  - Graph gives us more insights of the problem, improving therefore our understanding of the problem.\n",
    "  \n",
    "  - Graphs helps in making analysis and for data processing through the use of their algorithms and theories.\n",
    "  \n",
    "  - Graphs are also use to reduce computation flow."
   ]
  },
  {
   "cell_type": "code",
   "execution_count": null,
   "id": "6d24126b",
   "metadata": {},
   "outputs": [],
   "source": []
  },
  {
   "cell_type": "markdown",
   "id": "0c25a9cc",
   "metadata": {},
   "source": [
    "## Reference"
   ]
  },
  {
   "cell_type": "markdown",
   "id": "7658b6c5",
   "metadata": {},
   "source": [
    "#### Websites\n",
    "   -geeksforgeeks. (2022). Difference between graph and tree. [Online]. geeksforgeeks. Last Updated: 28 Feb, 2023. Available at: https://www.geeksforgeeks.org/difference-between-graph-and-tree/ [Accessed 6 November 2023].\n",
    "   \n",
    "   -EliseDevaux. (2019). 5 reasons why graph visualization matters. [Online]. Linkurious blog. Last Updated: November 1, 2019. Available at: https://www.datasciencecentral.com/5-reasons-why-graph-visualization-matters/ [Accessed 7 November 2023].\n",
    "   \n",
    "   -geeksforgeeks. (2019). Advantages and Disadvantages of Graph. [Online]. geeksforgeeks. Last Updated: 17 april 2023. Available at: https://www.geeksforgeeks.org/applications-advantages-and-disadvantages-of-graph/ [Accessed 7 November 2023].\n",
    "\n"
   ]
  },
  {
   "cell_type": "code",
   "execution_count": null,
   "id": "d09de4c3",
   "metadata": {},
   "outputs": [],
   "source": []
  }
 ],
 "metadata": {
  "kernelspec": {
   "display_name": "Python 3 (ipykernel)",
   "language": "python",
   "name": "python3"
  },
  "language_info": {
   "codemirror_mode": {
    "name": "ipython",
    "version": 3
   },
   "file_extension": ".py",
   "mimetype": "text/x-python",
   "name": "python",
   "nbconvert_exporter": "python",
   "pygments_lexer": "ipython3",
   "version": "3.9.7"
  }
 },
 "nbformat": 4,
 "nbformat_minor": 5
}
