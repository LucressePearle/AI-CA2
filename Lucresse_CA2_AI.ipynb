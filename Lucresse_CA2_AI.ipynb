{
 "cells": [
  {
   "cell_type": "markdown",
   "id": "6c0c2f37",
   "metadata": {},
   "source": [
    "# CCT College Dublin \n",
    "\n",
    "## Module Title: \n",
    "Artificial Intelligence\n",
    "## Assessment Title:\n",
    "AI_Lv8_CA2_V8\n",
    "## Lecturer Name:\n",
    "David McQuaid\n",
    "## Student Full Name/ID:\n",
    "Lucresse Pearle Tchatchoua Mbakop – 2021404\n",
    "## Assessment Due Date:\n",
    "17th november 2023 23:59\n",
    "## Date of Submission:\n",
    "\n",
    "\n",
    "### Declaration \t\t\t\n",
    "By submitting this assessment, I confirm that I have read the CCT policy on Academic Misconduct and understand the implications of submitting work that is not my own or does not appropriately reference material taken from a third party or other source. I declare it to be my own work and that all material from third parties has been appropriately referenced. I further confirm that this work has not previously been submitted for assessment by myself or someone else in CCT College Dublin or any other higher education institution.\n",
    "\n"
   ]
  },
  {
   "cell_type": "markdown",
   "id": "adebeb1e",
   "metadata": {},
   "source": [
    "## Question 1\n",
    "  A puzzle has multiple ways of reaching the end solution. Fig. 1 shows a graph that represents all possible routes to the solution. The starting point of the game is represented by A, the solution is represented by S. The other points in the graph are possible intermediary stages. "
   ]
  },
  {
   "cell_type": "markdown",
   "id": "95ba70fd",
   "metadata": {},
   "source": [
    "#### (a) \n",
    "    (1) the differences between a graph and a tree are:\n",
    " -"
   ]
  },
  {
   "cell_type": "markdown",
   "id": "0c25a9cc",
   "metadata": {},
   "source": [
    "## Reference"
   ]
  },
  {
   "cell_type": "code",
   "execution_count": null,
   "id": "bc6fbaf8",
   "metadata": {},
   "outputs": [],
   "source": []
  }
 ],
 "metadata": {
  "kernelspec": {
   "display_name": "Python 3 (ipykernel)",
   "language": "python",
   "name": "python3"
  },
  "language_info": {
   "codemirror_mode": {
    "name": "ipython",
    "version": 3
   },
   "file_extension": ".py",
   "mimetype": "text/x-python",
   "name": "python",
   "nbconvert_exporter": "python",
   "pygments_lexer": "ipython3",
   "version": "3.9.7"
  }
 },
 "nbformat": 4,
 "nbformat_minor": 5
}
